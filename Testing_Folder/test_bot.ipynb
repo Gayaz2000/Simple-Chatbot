{
 "cells": [
  {
   "cell_type": "code",
   "execution_count": 1,
   "id": "e6bd2d48",
   "metadata": {},
   "outputs": [],
   "source": [
    "import os\n",
    "from dotenv import load_dotenv\n",
    "\n",
    "load_dotenv()\n",
    "\n",
    "os.environ[\"GROQ_API_KEY\"] = os.getenv(\"GROQ_API_KEY\")"
   ]
  },
  {
   "cell_type": "code",
   "execution_count": 2,
   "id": "b8057e21",
   "metadata": {},
   "outputs": [],
   "source": [
    "from langchain_groq import ChatGroq\n",
    "\n",
    "llm = ChatGroq(model=\"qwen-qwq-32b\")"
   ]
  },
  {
   "cell_type": "code",
   "execution_count": 4,
   "id": "4443dcf5",
   "metadata": {},
   "outputs": [
    {
     "data": {
      "text/plain": [
       "'\\n<think>\\nOkay, the user just said \"hi\". I should respond in a friendly and open way. Let me start with a greeting back. Maybe \"Hello! How can I assist you today?\" That\\'s simple and lets them know I\\'m here to help. I should keep it welcoming and not too pushy. Yeah, that should work.\\n</think>\\n\\nHello! How can I assist you today? 😊'"
      ]
     },
     "execution_count": 4,
     "metadata": {},
     "output_type": "execute_result"
    }
   ],
   "source": [
    "response = llm.invoke(\"hi\")\n",
    "response.content"
   ]
  },
  {
   "cell_type": "code",
   "execution_count": 13,
   "id": "f4cbefdb",
   "metadata": {},
   "outputs": [],
   "source": [
    "from langgraph.graph import StateGraph, END, MessagesState\n",
    "import asyncio\n",
    "\n",
    "async def chatbot(state: MessagesState):\n",
    "    \"\"\"A funtion to invoke llm model\"\"\"\n",
    "    response = await llm.ainvoke(state[\"messages\"])\n",
    "    return {\"messages\": [response]}"
   ]
  },
  {
   "cell_type": "code",
   "execution_count": 14,
   "id": "0227678c",
   "metadata": {},
   "outputs": [],
   "source": [
    "builder = StateGraph(MessagesState)\n",
    "\n",
    "builder.add_node(\"chatbot\", chatbot)\n",
    "\n",
    "builder.set_entry_point(\"chatbot\")\n",
    "builder.add_edge(\"chatbot\", END)\n",
    "\n",
    "graph = builder.compile()"
   ]
  },
  {
   "cell_type": "code",
   "execution_count": 15,
   "id": "7c554418",
   "metadata": {},
   "outputs": [],
   "source": [
    "response = await graph.ainvoke(\n",
    "    {\n",
    "        \"messages\":[{\n",
    "            \"role\":\"user\",\n",
    "            \"content\": \"What is a black hole\"\n",
    "        }]\n",
    "    }\n",
    ")"
   ]
  },
  {
   "cell_type": "code",
   "execution_count": 16,
   "id": "e5c57e5d",
   "metadata": {},
   "outputs": [
    {
     "data": {
      "text/plain": [
       "'\\n<think>\\nOkay, the user is asking \"What is a black hole?\" I need to explain this in a clear and understandable way. Let me start by recalling what I know about black holes.\\n\\nFirst, I should define a black hole. It\\'s a region in space where gravity is so strong that nothing, not even light, can escape. But how does that happen? I think it\\'s related to the collapse of a massive star. When a massive star runs out of fuel, it can\\'t support itself against its own gravity, leading to a supernova and the core collapsing into a singularity. That\\'s the point of infinite density. \\n\\nWait, maybe I should mention the event horizon too. The event horizon is the boundary around the black hole beyond which nothing can escape. That\\'s the \"point of no return.\" So the event horizon\\'s radius is called the Schwarzschild radius. I should explain that in simple terms, maybe using a metaphor like a one-way membrane.\\n\\nAlso, types of black holes: stellar-mass, supermassive, and maybe intermediate. Stellar-mass form from collapsing stars, supermassive are in galactic centers, and intermediate are in between. \\n\\nWhat about the effects of gravity? They warp spacetime, which is Einstein\\'s general relativity. Time dilation near a black hole? Objects near the event horizon would experience time slower compared to someone far away. But maybe that\\'s getting too technical. \\n\\nObserving black holes is tricky since they don\\'t emit light. We detect them by their gravitational effects on nearby stars and gas, or through phenomena like accretion disks and relativistic jets. The first image of a black hole\\'s shadow was captured by the Event Horizon Telescope in 2019, which was M87*.\\n\\nI should also mention Hawking radiation, but I have to be careful because that\\'s theoretical and not yet observed. Maybe note that black holes might emit radiation due to quantum effects near the event horizon, leading to gradual evaporation over very long timescales.\\n\\nWait, is there anything else? How they affect their surroundings, like accretion disks glowing due to friction heating, and the jets. Also, maybe clarify that not all black holes \"suck\" things in; they just have strong gravity, so objects can orbit them if they stay outside the event horizon.\\n\\nI should structure this in a logical flow: start with a basic definition, then formation, components (singularity, event horizon), types, how we detect them, and maybe some interesting facts or recent discoveries. Keep it simple and avoid jargon where possible, but still accurate. Let me check if I have all the key points covered without getting too deep into complex physics. Maybe avoid terms like \"spaghettification\" unless necessary. The user might not need the details of someone falling into a black hole\\'s experience, unless it\\'s relevant to explaining the gravity\\'s strength.\\n\\nAlso, make sure to mention that black holes are not the end of everything; they\\'re just regions of spacetime with extreme gravity. Clarify that they don\\'t \"vacuum up\" nearby stars but have strong gravity fields. \\n\\nHmm, maybe include an example of a supermassive black hole, like Sagittarius A* at the Milky Way\\'s center. That could make it more concrete. Alright, putting it all together in a coherent way without overwhelming the reader.\\n</think>\\n\\nA **black hole** is a region in space where gravity is so intense that **nothing, not even light**, can escape from it. Here\\'s a breakdown of its key features and characteristics:\\n\\n---\\n\\n### **1. Core Components**\\n- **Singularity**: At the center, all the mass of the black hole is crushed into an infinitely dense point with zero volume. This is where our current understanding of physics breaks down.\\n- **Event Horizon**: The \"point of no return\" surrounding the singularity. Once anything (matter, light, etc.) crosses this boundary, it cannot escape the black hole\\'s gravity. The radius of the event horizon is called the **Schwarzschild radius**.\\n\\n---\\n\\n### **2. How They Form**\\n- **Stellar-Mass Black Holes**: Form when a massive star (typically more than 20 times the Sun\\'s mass) runs out of fuel, causing its core to collapse under gravity. This collapse triggers a supernova explosion, leaving behind a black hole.\\n- **Supermassive Black Holes**: Found at the centers of most galaxies, including the Milky Way (Sagittarius A*). Their origins are still studied, but they likely form from mergers of smaller black holes or dense star clusters.\\n- **Intermediate-Mass Black Holes**: Less well-understood, these may form through mergers or the collapse of massive clusters of stars.\\n\\n---\\n\\n### **3. Properties & Behavior**\\n- **Gravitational Pull**: Extreme gravity warps spacetime (as described by Einstein\\'s theory of general relativity). Closer to the black hole, time slows down (time dilation), and space is severely distorted.\\n- **Accretion Disks & Jets**: Black holes often pull in nearby gas and dust, forming a swirling disk (accretion disk) that heats up to millions of degrees, emitting X-rays. Some black holes also shoot out high-speed jets of particles perpendicular to the disk.\\n- **No \"Sucking\"**: Black holes don’t \"suck\" matter in like a vacuum. Objects can orbit them safely if they stay outside the event horizon—like planets orbiting a star, but with much stronger gravity.\\n\\n---\\n\\n### **4. Detection & Observation**\\n- **Indirect Evidence**: Since light can’t escape, black holes are detected by their gravitational effects on nearby stars or gas, or through radiation from accretion disks.\\n- **Imaging**: The **Event Horizon Telescope** captured the first image of a black hole’s shadow (in the galaxy M87) in 2019. The image showed the silhouette of the event horizon against the glowing accretion disk.\\n\\n---\\n\\n### **5. Key Concepts**\\n- **Hawking Radiation**: Theoretical prediction by Stephen Hawking that black holes emit faint radiation due to quantum effects near the event horizon. Over vast timescales, this could cause black holes to lose mass and eventually \"evaporate,\" though this hasn’t been observed.\\n- **Spacetime Curvature**: Einstein’s theory explains that massive objects like black holes warp the fabric of spacetime, creating the extreme gravity.\\n\\n---\\n\\n### **6. Types of Black Holes**\\n- **Stellar-Mass**: ~3–100 times the Sun’s mass.\\n- **Intermediate-Mass**: 100–100,000 solar masses (still poorly understood).\\n- **Supermassive**: Millions to billions of solar masses (e.g., Sagittarius A* has ~4 million solar masses).\\n\\n---\\n\\n### **7. Myths vs. Reality**\\n- **Myth**: Black holes \"vacuum up\" everything nearby.  \\n  **Reality**: Their gravity is strong, but objects can orbit them just like planets orbit the Sun—as long as they stay outside the event horizon.\\n- **Myth**: Black holes are invisible.  \\n  **Reality**: While the event horizon itself is invisible, their effects (e.g., swirling disks of hot gas, gravitational lensing) make their presence detectable.\\n\\n---\\n\\n### **Why Study Black Holes?**\\nThey test our understanding of gravity, spacetime, and quantum mechanics. They also play critical roles in galaxy formation and evolution, as supermassive black holes regulate star formation in their galaxies.\\n\\nIf you want to dive deeper, topics like **spaghettification** (what happens to objects falling in) or **wormholes** (theoretical tunnels through spacetime) might interest you!'"
      ]
     },
     "execution_count": 16,
     "metadata": {},
     "output_type": "execute_result"
    }
   ],
   "source": [
    "response[\"messages\"][-1].content"
   ]
  },
  {
   "cell_type": "code",
   "execution_count": 17,
   "id": "d4875873",
   "metadata": {},
   "outputs": [
    {
     "data": {
      "image/png": "[encoded data removed]",
      "text/plain": [
       "<IPython.core.display.Image object>"
      ]
     },
     "metadata": {},
     "output_type": "display_data"
    }
   ],
   "source": [
    "from IPython.display import display, Image\n",
    "\n",
    "try:\n",
    "    display(Image(graph.get_graph().draw_mermaid_png()))\n",
    "except Exception as e:\n",
    "    print(e)"
   ]
  },
  {
   "cell_type": "code",
   "execution_count": null,
   "id": "69bec344",
   "metadata": {},
   "outputs": [],
   "source": []
  }
 ],
 "metadata": {
  "kernelspec": {
   "display_name": ".venv",
   "language": "python",
   "name": "python3"
  },
  "language_info": {
   "codemirror_mode": {
    "name": "ipython",
    "version": 3
   },
   "file_extension": ".py",
   "mimetype": "text/x-python",
   "name": "python",
   "nbconvert_exporter": "python",
   "pygments_lexer": "ipython3",
   "version": "3.13.3"
  }
 },
 "nbformat": 4,
 "nbformat_minor": 5
}
